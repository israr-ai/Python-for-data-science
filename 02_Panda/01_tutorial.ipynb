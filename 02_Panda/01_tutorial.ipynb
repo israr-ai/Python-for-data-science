{
 "cells": [
  {
   "cell_type": "code",
   "execution_count": null,
   "id": "ad0b5aa3",
   "metadata": {},
   "outputs": [
    {
     "name": "stdout",
     "output_type": "stream",
     "text": [
      "check version : 2.0.3\n",
      "   ID    Name  Age Department  Salary\n",
      "0   1   Israr   24         IT   45000\n",
      "1   2  Ayesha   27         HR   50000\n",
      "2   3   Rahul   22    Finance   40000\n",
      "3   4    Neha   29  Marketing   55000\n",
      "4   5    Aman   25         IT   47000\n"
     ]
    }
   ],
   "source": [
    "#python script to read a CSV file and print its contents using pandas\n",
    "import pandas as pd\n",
    "\n",
    "# Read the CSV file\n",
    "df = pd.read_csv(\"data.csv\")\n",
    "\n",
    "# Print dataframe\n",
    "# print(df)\n",
    "\n",
    "# Print specific columns\n",
    "# print(df[[\"Name\", \"Department\"]])\n",
    "\n",
    "print(\"check version :\",pd.__version__)\n",
    "print(df.to_string())\n"
   ]
  },
  {
   "cell_type": "code",
   "execution_count": null,
   "id": "9d75bb52",
   "metadata": {},
   "outputs": [
    {
     "name": "stdout",
     "output_type": "stream",
     "text": [
      "      Name  Age   Department\n",
      "0    Alice   24           HR\n",
      "1      Bob   27  Engineering\n",
      "2  charlie   22    Marketing\n"
     ]
    }
   ],
   "source": [
    "#----using--DataFrame------------\n",
    "#-- DataFrame is a two-dimensional, size-mutable, and potentially heterogeneous tabular data structure with labeled axes (rows and columns).\n",
    "import pandas as pd\n",
    "data = {\n",
    "    'Name': ['Alice', 'Bob', 'charlie'],\n",
    "    'Age': [24, 27, 22],\n",
    "    'Department': ['HR', 'Engineering', 'Marketing']\n",
    "}\n",
    "df = pd.DataFrame(data)\n",
    "print(df)"
   ]
  },
  {
   "cell_type": "code",
   "execution_count": 18,
   "id": "5749f970",
   "metadata": {},
   "outputs": [
    {
     "name": "stdout",
     "output_type": "stream",
     "text": [
      "calories    420\n",
      "duration     50\n",
      "Name: 0, dtype: int64\n",
      "   calories  duration\n",
      "0       420        50\n",
      "1       380        40\n",
      "2       390        45\n",
      "\n",
      "\n",
      "\n",
      "   calories  duration\n",
      "0       420        50\n",
      "1       380        40\n"
     ]
    }
   ],
   "source": [
    "#-----using---DataFrame----loc----\n",
    "import pandas as pd\n",
    "data = {\n",
    "  \"calories\": [420, 380, 390],\n",
    "  \"duration\": [50, 40, 45]\n",
    "}\n",
    "df = pd.DataFrame(data)\n",
    "print(df.loc[0]) #row data print\n",
    "print(df)\n",
    "print(\"\")\n",
    "# print(df.loc[[0, 1]]) #multiple row data print\n",
    "print(\"\")\n",
    "# print(df.loc[:, [\"duration\"]]) #specific column data print\n",
    "print(\"\")\n",
    "print(df.loc[0:1, [\"calories\", \"duration\"]]) #specific row and column data print"
   ]
  },
  {
   "cell_type": "code",
   "execution_count": null,
   "id": "6788bc74",
   "metadata": {},
   "outputs": [
    {
     "name": "stdout",
     "output_type": "stream",
     "text": [
      "0    10\n",
      "1    20\n",
      "2    30\n",
      "3    40\n",
      "4    50\n",
      "dtype: int64\n"
     ]
    }
   ],
   "source": [
    "#--------using--Series------------\n",
    "#-- Series is a one-dimensional array-like object that can hold data of any type.\n",
    "import pandas as pd\n",
    "data = [10, 20, 30, 40, 50]\n",
    "series = pd.Series(data)\n",
    "print(series)"
   ]
  },
  {
   "cell_type": "code",
   "execution_count": 14,
   "id": "d70a343b",
   "metadata": {},
   "outputs": [
    {
     "name": "stdout",
     "output_type": "stream",
     "text": [
      "a    10\n",
      "b    20\n",
      "c    30\n",
      "d    40\n",
      "e    50\n",
      "dtype: int64\n",
      "value at index 'c': 30\n",
      "b    20\n",
      "c    30\n",
      "dtype: int64\n"
     ]
    }
   ],
   "source": [
    "#---using---series--with--index---\n",
    "import pandas as pd\n",
    "data = [10, 20, 30, 40, 50]\n",
    "index = ['a', 'b', 'c', 'd', 'e']\n",
    "series = pd.Series(data, index=index)\n",
    "print(series)\n",
    "print(\"value at index 'c':\", series['c'])\n",
    "\n",
    "#---key---vallue---pair---series-----\n",
    "data2 = {'a':10, 'b':20, 'c':30, 'd':40}\n",
    "# print(pd.Series(data2))\n",
    "print(pd.Series(data2, index=['b','c']))\n"
   ]
  },
  {
   "cell_type": "code",
   "execution_count": 7,
   "id": "6ea91066",
   "metadata": {},
   "outputs": [
    {
     "name": "stdout",
     "output_type": "stream",
     "text": [
      "max_row : 3\n",
      "max_col : 3\n",
      "    ID  ... Salary\n",
      "0    1  ...  45000\n",
      "..  ..  ...    ...\n",
      "4    5  ...  47000\n",
      "\n",
      "[5 rows x 5 columns]\n"
     ]
    }
   ],
   "source": [
    "#----read_csv---------------\n",
    "import pandas as pd\n",
    "df = pd.read_csv('data.csv')\n",
    "# print(df)\n",
    "# print(df.to_string())\n",
    "\n",
    "#---max--optons--disply-----\n",
    "# pd.set_option('display.max_rows', 3)\n",
    "# pd.set_option('display.max_columns', 3)\n",
    "# pd.set_option('display.width', 1000)\n",
    "# pd.set_option('display.max_colwidth', 50)\n",
    "# pd.set_option('display.precision', 2)\n",
    "print(\"max_row :\",pd.options.display.max_rows)\n",
    "print(\"max_col :\",pd.options.display.max_columns)\n",
    "print(df)"
   ]
  },
  {
   "cell_type": "code",
   "execution_count": 12,
   "id": "b5858835",
   "metadata": {},
   "outputs": [
    {
     "name": "stdout",
     "output_type": "stream",
     "text": [
      "   Name  Age      city\n",
      "0  Raju   21     Delhi\n",
      "1  Sonu   22     Noida\n",
      "2  Monu   23    mumbai\n",
      "3  Tina   24  Banglore\n",
      "\n",
      "    Name  Age      city\n",
      "0   Raju   21     Delhi\n",
      "..   ...  ...       ...\n",
      "3   Tina   24  Banglore\n",
      "\n",
      "[4 rows x 3 columns]\n"
     ]
    }
   ],
   "source": [
    "#--------json--read_json----------------\n",
    "#--Big data sets are often stored, or extracted as JSON.\n",
    "import pandas as pd\n",
    "\n",
    "df = pd.read_json('data.json')\n",
    "\n",
    "print(df.to_string())\n",
    "print(\"\")\n",
    "print(df)"
   ]
  },
  {
   "cell_type": "code",
   "execution_count": 18,
   "id": "f07064bb",
   "metadata": {},
   "outputs": [
    {
     "name": "stdout",
     "output_type": "stream",
     "text": [
      "    ID  ... Salary\n",
      "0    1  ...  45000\n",
      "..  ..  ...    ...\n",
      "4    5  ...  47000\n",
      "\n",
      "[5 rows x 5 columns]\n",
      "\n",
      "    ID  ... Salary\n",
      "0    1  ...  45000\n",
      "..  ..  ...    ...\n",
      "4    5  ...  47000\n",
      "\n",
      "[5 rows x 5 columns]\n",
      "\n",
      "<class 'pandas.core.frame.DataFrame'>\n",
      "RangeIndex: 5 entries, 0 to 4\n",
      "Data columns (total 5 columns):\n",
      " #   Column      Non-Null Count  Dtype \n",
      "---  ------      --------------  ----- \n",
      " 0   ID          5 non-null      int64 \n",
      " 1   Name        5 non-null      object\n",
      " 2   Age         5 non-null      int64 \n",
      " 3   Department  5 non-null      object\n",
      " 4   Salary      5 non-null      int64 \n",
      "dtypes: int64(3), object(2)\n",
      "memory usage: 332.0+ bytes\n",
      "None\n",
      "\n",
      "        ID   Age   Salary\n",
      "count  5.0   5.0      5.0\n",
      "...    ...   ...      ...\n",
      "max    5.0  29.0  55000.0\n",
      "\n",
      "[8 rows x 3 columns]\n"
     ]
    }
   ],
   "source": [
    "#-----Analyzing----data----------------\n",
    "import pandas as pd\n",
    "df = pd.read_csv('data.csv')\n",
    "print(df.head()) #first 5 rows\n",
    "print(\"\")\n",
    "print(df.tail()) #last 5 rows\n",
    "print(\"\")\n",
    "print(df.info())  #summary of dataframe\n",
    "print(\"\")\n",
    "print(df.describe()) #statistical summary of numerical columns\n"
   ]
  },
  {
   "cell_type": "code",
   "execution_count": 19,
   "id": "f17b7382",
   "metadata": {},
   "outputs": [
    {
     "name": "stdout",
     "output_type": "stream",
     "text": [
      "    ID  ... Salary\n",
      "0    1  ...  45000\n",
      "..  ..  ...    ...\n",
      "4    5  ...  47000\n",
      "\n",
      "[5 rows x 5 columns]\n"
     ]
    }
   ],
   "source": [
    "#--02---Analyzing-----data-------------\n",
    "import pandas as pd\n",
    "df = pd.read_csv('data.csv')\n",
    "print(df.head())"
   ]
  }
 ],
 "metadata": {
  "kernelspec": {
   "display_name": "Python 3",
   "language": "python",
   "name": "python3"
  },
  "language_info": {
   "codemirror_mode": {
    "name": "ipython",
    "version": 3
   },
   "file_extension": ".py",
   "mimetype": "text/x-python",
   "name": "python",
   "nbconvert_exporter": "python",
   "pygments_lexer": "ipython3",
   "version": "3.11.4"
  }
 },
 "nbformat": 4,
 "nbformat_minor": 5
}
