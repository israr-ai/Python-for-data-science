{
 "cells": [
  {
   "cell_type": "code",
   "execution_count": null,
   "id": "e6590c4c",
   "metadata": {},
   "outputs": [],
   "source": [
    "#---Exercises-01---creating a array-----\n",
    "import numpy as np\n",
    "arr = np.array([1, 2, 3, 4, 5])\n",
    "# print(arr)\n",
    "\n",
    "#---in-tupple---\n",
    "arr = np.array((1,2,3,4,))\n",
    "# print(arr)\n",
    "# print(type(arr))\n",
    "\n",
    "#---0-D-Array---\n",
    "d_0arr = np.array(56)\n",
    "# print(d_0arr)\n",
    "# print(type(d_0arr))\n",
    "# print(d_0arr.ndim) #check dimension\n",
    "\n",
    "#----1-D----Array-----\n",
    "d_1arr = np.array([1,5,6,7,4])\n",
    "# print(\"1-D Array :\",d_1arr)\n",
    "# print(d_1arr.ndim)\n",
    "\n",
    "#----2-D--Array-----\n",
    "d_2arr = np.array([[4,5,5],[6,7,5]])\n",
    "# print(\"2-D Array :\",d_2arr)\n",
    "# print(d_2arr.ndim)\n",
    "\n",
    "#----3-D---Array-----------\n",
    "d_3arr = np.array([[[1, 3, 4], [4, 5, 6]], [[8, 9, 0], [9, 4, 5]]])\n",
    "print(\"3-D Array = \",d_3arr)\n",
    "print(d_3arr.ndim)\n",
    "\n",
    "#---Higher Dimensional Arrays---used--dnmin--\n",
    "harr = np.array([1, 2, 3, 4, 5, 6, 6], ndmin=2)\n",
    "print(harr)\n"
   ]
  },
  {
   "cell_type": "code",
   "execution_count": null,
   "id": "888cadc1",
   "metadata": {},
   "outputs": [],
   "source": [
    "#----NUMPAY--ARRAY---INDEXING-------\n",
    "import numpy as np\n",
    "arr = np.array([1, 3, 5, 5])\n",
    "# print(arr[3])\n",
    "\n",
    "#---Access---2-D--array-----\n",
    "arr2 = np.array([[1, 4, 5, 6], [4, 9, 0, 45]])\n",
    "# print(arr2[0,1])  #--first-row-0--firs-numper\n",
    "# print(arr2[1,3])\n",
    "\n",
    "#---Access-3-D---array-----\n",
    "arr3 = np.array([[[3, 5, 6, 6, 7], [8, 0, 8, 0, 9]], [[1, 2, 3, 4, 5], [6, 4, 3, 9, 0]]])\n",
    "# print(arr3[1,1,2])\n",
    "\n",
    "#----Negative---indexing----------\n",
    "print(arr3[0,0, -2])\n",
    "print(arr3[1,0,-3])\n",
    "print(arr3[1,1, -3])\n",
    "\n"
   ]
  },
  {
   "cell_type": "code",
   "execution_count": null,
   "id": "b7ca98a4",
   "metadata": {},
   "outputs": [],
   "source": []
  }
 ],
 "metadata": {
  "kernelspec": {
   "display_name": "Python 3",
   "language": "python",
   "name": "python3"
  },
  "language_info": {
   "codemirror_mode": {
    "name": "ipython",
    "version": 3
   },
   "file_extension": ".py",
   "mimetype": "text/x-python",
   "name": "python",
   "nbconvert_exporter": "python",
   "pygments_lexer": "ipython3",
   "version": "3.11.4"
  }
 },
 "nbformat": 4,
 "nbformat_minor": 5
}
