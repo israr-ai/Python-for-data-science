{
 "cells": [
  {
   "cell_type": "code",
   "execution_count": null,
   "id": "e6590c4c",
   "metadata": {},
   "outputs": [],
   "source": [
    "#---Exercises-01---creating a array-----\n",
    "import numpy as np\n",
    "arr = np.array([1, 2, 3, 4, 5])\n",
    "# print(arr)\n",
    "\n",
    "#---in-tupple---\n",
    "arr = np.array((1,2,3,4,))\n",
    "# print(arr)\n",
    "# print(type(arr))\n",
    "\n",
    "#---0-D-Array---\n",
    "d_0arr = np.array(56)\n",
    "# print(d_0arr)\n",
    "# print(type(d_0arr))\n",
    "# print(d_0arr.ndim) #check dimension\n",
    "\n",
    "#----1-D----Array-----\n",
    "d_1arr = np.array([1,5,6,7,4])\n",
    "# print(\"1-D Array :\",d_1arr)\n",
    "# print(d_1arr.ndim)\n",
    "\n",
    "#----2-D--Array-----\n",
    "d_2arr = np.array([[4,5,5],[6,7,5]])\n",
    "# print(\"2-D Array :\",d_2arr)\n",
    "# print(d_2arr.ndim)\n",
    "\n",
    "#----3-D---Array-----------\n",
    "d_3arr = np.array([[[1, 3, 4], [4, 5, 6]], [[8, 9, 0], [9, 4, 5]]])\n",
    "print(\"3-D Array = \",d_3arr)\n",
    "print(d_3arr.ndim)\n",
    "\n",
    "#---Higher Dimensional Arrays---used--dnmin--\n",
    "harr = np.array([1, 2, 3, 4, 5, 6, 6], ndmin=2)\n",
    "print(harr)\n"
   ]
  },
  {
   "cell_type": "code",
   "execution_count": null,
   "id": "888cadc1",
   "metadata": {},
   "outputs": [],
   "source": [
    "#----NUMPAY--ARRAY---INDEXING-------\n",
    "import numpy as np\n",
    "arr = np.array([1, 3, 5, 5])\n",
    "# print(arr[3])\n",
    "\n",
    "#---Access---2-D--array-----\n",
    "arr2 = np.array([[1, 4, 5, 6], [4, 9, 0, 45]])\n",
    "# print(arr2[0,1])  #--first-row-0--firs-numper\n",
    "# print(arr2[1,3])\n",
    "\n",
    "#---Access-3-D---array-----\n",
    "arr3 = np.array([[[3, 5, 6, 6, 7], [8, 0, 8, 0, 9]], [[1, 2, 3, 4, 5], [6, 4, 3, 9, 0]]])\n",
    "# print(arr3[1,1,2])\n",
    "\n",
    "#----Negative---indexing----------\n",
    "print(arr3[0,0, -2])\n",
    "print(arr3[1,0,-3])\n",
    "print(arr3[1,1, -3])\n",
    "\n"
   ]
  },
  {
   "cell_type": "code",
   "execution_count": 6,
   "id": "b7ca98a4",
   "metadata": {},
   "outputs": [
    {
     "name": "stdout",
     "output_type": "stream",
     "text": [
      "print 2 for end : [34, 56, 9]\n",
      "print first to specified elemen : [1, 2, 34]\n",
      "print last  elem : [9]\n",
      "print all elem : [1, 2, 34, 56]\n",
      "print 3 to 1 : [34, 56]\n",
      "print spefied elem : [34, 56, 9]\n",
      "print step 2 : [1, 34, 9]\n"
     ]
    }
   ],
   "source": [
    "#--slice-----\n",
    "arr = [1, 2, 34, 56, 9]\n",
    "print(\"print 2 for end :\",arr[2:])\n",
    "print(\"print first to specified elemen :\",arr[:3])\n",
    "print(\"print last  elem :\",arr[-1:])\n",
    "print(\"print all elem :\",arr[:-1])\n",
    "print(\"print 3 to 1 :\",arr[-3:-1])\n",
    "print(\"print spefied elem :\",arr[-3:])\n",
    "print(\"print step 2 :\",arr[::2])"
   ]
  },
  {
   "cell_type": "code",
   "execution_count": 12,
   "id": "91745ffc",
   "metadata": {},
   "outputs": [
    {
     "name": "stdout",
     "output_type": "stream",
     "text": [
      "[2 3 4]\n",
      "[ 2 56]\n",
      "[34 56 89 90]\n"
     ]
    }
   ],
   "source": [
    "#----slicing--2-D---Array----------------\n",
    "import numpy as np\n",
    "arr2 = np.array([[1, 2, 3, 4, 5, 9], [34, 56, 89, 90, 34, 23]])\n",
    "print(arr2[0,1:4])\n",
    "print(arr2[0:3, 1])\n",
    "print(arr2[1, 0:4])\n"
   ]
  },
  {
   "cell_type": "code",
   "execution_count": 21,
   "id": "8411e7ba",
   "metadata": {},
   "outputs": [
    {
     "name": "stdout",
     "output_type": "stream",
     "text": [
      "[b'1' b'3' b'4' b'5' b'5']\n",
      "After change the data type : [1. 3. 4. 5. 5.]\n",
      "[1. 2. 3. 0.]\n",
      "float32\n"
     ]
    }
   ],
   "source": [
    "#-------data--type---numpy------\n",
    "import numpy as np\n",
    "arr = np.array([1, 3, 4, 5, 5], dtype=\"S\")\n",
    "print(arr)\n",
    "float = arr.astype('f')\n",
    "print(\"After change the data type :\",float)\n",
    "\n",
    "arr = np.array([1, 2, 3, 0])\n",
    "newarr = arr.astype('f')\n",
    "# boolarr = arr.astype(bool)\n",
    "print(newarr)\n",
    "print(newarr.dtype)\n",
    "# print(\"boolean array\", boolarr)\n",
    "# print(boolarr.dtype)\n"
   ]
  },
  {
   "cell_type": "code",
   "execution_count": 45,
   "id": "e95ffbde",
   "metadata": {},
   "outputs": [
    {
     "name": "stdout",
     "output_type": "stream",
     "text": [
      "[[1 3 4 5 2 1]\n",
      " [3 4 5 6 9 9]]\n",
      "[[1 3 4 5 2 1]\n",
      " [3 4 5 6 9 9]]\n",
      "[[1 3 4 5 2 1]\n",
      " [3 4 5 6 9 9]]\n",
      "id of original array : 1423017552816\n",
      "id of copy array : 1423014702000\n",
      "---------shape-----------------------\n",
      "check the shape of array : (2, 6)\n",
      "[[ 1  2  3  4  5  6]\n",
      " [ 7  8  9 10 11 12]]\n"
     ]
    }
   ],
   "source": [
    "#----Copy----and---view---numpy---arrray\n",
    "import numpy as np\n",
    "arr1 = np.array([[1, 3, 4, 5, 2, 1], [3, 4, 5, 6, 9, 9]])\n",
    "arr2 = arr1.copy()\n",
    "# arr2[0] = 20\n",
    "# arr1[2] = 30\n",
    "arr3 = arr1.view()\n",
    "\n",
    "print(arr1)\n",
    "print(arr2)\n",
    "print(arr3)\n",
    "print(\"id of original array :\",id(arr1))\n",
    "print(\"id of copy array :\",id(arr2))\n",
    "\n",
    "print(\"---------shape-----------------------\")\n",
    "print(\"check the shape of array :\",arr1.shape)\n",
    "\n",
    "#--changing---shape--of---array\n",
    "# arr1.shape =(2,3)\n",
    "# print(arr1.shape)\n",
    "\n",
    "#------used the reshape() method to give a new shape to an array------\n",
    "arr = np.array([1, 2, 3, 4, 5, 6, 7, 8, 9, 10, 11, 12])\n",
    "newarr = arr.reshape(2,6) #reshaping the array to 4 rows and 3 columns\n",
    "print(newarr)\n",
    "newarr = arr.reshape(2, 3, 2) #reshaping the array to 2 arrays of 3 rows and 2 columns\n",
    "# print(newarr)"
   ]
  },
  {
   "cell_type": "code",
   "execution_count": 6,
   "id": "6457f8da",
   "metadata": {},
   "outputs": [
    {
     "name": "stdout",
     "output_type": "stream",
     "text": [
      "\n",
      "-----------2-D--array-------------\n",
      "\n",
      "-----------3-D-array-------------------\n",
      "3-D : 1\n",
      "3-D : 2\n",
      "3-D : 4\n",
      "3-D : 5\n",
      "3-D : 7\n",
      "3-D : 8\n",
      "3-D : 10\n",
      "3-D : 11\n"
     ]
    }
   ],
   "source": [
    "#-------iterating--for--loop----\n",
    "import numpy as np\n",
    "arr = np.array([1, 2, 3, 4, 5, 6])\n",
    "# for x in arr:\n",
    "    # print(\"arr :\",x)\n",
    "\n",
    "print(\"\")\n",
    "print(\"-----------2-D--array-------------\")\n",
    "arr2 = np.array([[1, 2, 3, 4], [5, 6, 7, 8,], [9, 10, 11,14]])\n",
    "# for i in np.nditer(arr2):\n",
    "    # print(\"2-d :\",i)\n",
    "\n",
    "print(\"\")\n",
    "print(\"-----------3-D-array-------------------\")\n",
    "arr3 = np.array([[[1, 2], [4, 5]], [[7, 8], [10, 11]]])\n",
    "for i in np.nditer(arr3):\n",
    "    print(\"3-D :\",i)"
   ]
  },
  {
   "cell_type": "code",
   "execution_count": 22,
   "id": "54e5bb85",
   "metadata": {},
   "outputs": [
    {
     "name": "stdout",
     "output_type": "stream",
     "text": [
      "[1 2 3 4 5 6]\n",
      "[[ 1  2  3  4  6  9]\n",
      " [ 4  5  6 10 11 12]]\n",
      "stack : [[1 5]\n",
      " [3 6]\n",
      " [4 8]]\n",
      "hstack : [1 3 4 5 6 8]\n",
      "vstack : [[1 3 4]\n",
      " [5 6 8]]\n",
      "dstack : [[[1 5]\n",
      "  [3 6]\n",
      "  [4 8]]]\n"
     ]
    }
   ],
   "source": [
    "#----joining-----array------------\n",
    "import numpy as np\n",
    "arr1 = np.array([1, 2, 3])\n",
    "arr2 = np.array([4, 5, 6])\n",
    "arr3 = np.concatenate((arr1, arr2))\n",
    "# arr3 = np.concatenate((arr1, arr2))\n",
    "print(arr3)\n",
    "\n",
    "#---along--axis--2-D---array----------\n",
    "arr4 = np.array([[1, 2, 3], [4, 5, 6]])\n",
    "arr5 = np.array([[4, 6, 9], [10, 11, 12]])\n",
    "arr6 = np.concatenate((arr4, arr5), axis=1)\n",
    "print(arr6)\n",
    "\n",
    "#-------stack---------\n",
    "arr1 = np.array([1, 3, 4])\n",
    "arr2 = np.array([5, 6, 8])\n",
    "# stk = np.stack((arr1, arr3), axis=1)\n",
    "arr3 = np.stack((arr1, arr2), axis=1)\n",
    "print(\"stack :\",arr3)\n",
    "\n",
    "#------hstack--------\n",
    "arr4 = np.hstack((arr1, arr2))\n",
    "arr5 = np.vstack((arr1, arr2))\n",
    "arr6 = np.dstack((arr1, arr2))\n",
    "print(\"hstack :\",arr4)\n",
    "print(\"vstack :\",arr5)\n",
    "print(\"dstack :\",arr6)"
   ]
  }
 ],
 "metadata": {
  "kernelspec": {
   "display_name": "Python 3",
   "language": "python",
   "name": "python3"
  },
  "language_info": {
   "codemirror_mode": {
    "name": "ipython",
    "version": 3
   },
   "file_extension": ".py",
   "mimetype": "text/x-python",
   "name": "python",
   "nbconvert_exporter": "python",
   "pygments_lexer": "ipython3",
   "version": "3.11.4"
  }
 },
 "nbformat": 4,
 "nbformat_minor": 5
}
