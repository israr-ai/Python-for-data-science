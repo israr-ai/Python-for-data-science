{
 "cells": [
  {
   "cell_type": "code",
   "execution_count": null,
   "id": "c65e1bc5",
   "metadata": {},
   "outputs": [],
   "source": [
    "import numpy as np\n",
    "\n",
    "arr = np.array([1, 2, 3, 4, 5])\n",
    "\n",
    "print(arr)\n",
    "\n",
    "print(type(arr))"
   ]
  },
  {
   "cell_type": "code",
   "execution_count": null,
   "id": "b10b5816",
   "metadata": {},
   "outputs": [],
   "source": [
    "#ching the version of numpy\n",
    "import numpy as np\n",
    "print(np.__version__)"
   ]
  },
  {
   "cell_type": "code",
   "execution_count": null,
   "id": "f606a62f",
   "metadata": {},
   "outputs": [],
   "source": [
    "#--Creating the Array-----\n",
    "import numpy as np\n",
    "arr = np.array([1, 2, 3 , 4 , 5])\n",
    "# print(arr)\n",
    "# print(type(arr)) \n",
    "# print(arr.ndim)  #ndim is used to check the dimension of the array\n",
    "# print(arr.shape) #shape is used to check the shape of the array\n",
    "# print(arr.size) #size is used to check the size of the array\n",
    "# print(arr. dtype) #dtype is used to check the data type of the array\n",
    "\n",
    "# ----tuple to crate array---\n",
    "arr = np.array((1, 2, 3, 4, 5))\n",
    "print(arr) \n",
    "\n",
    "#----Dimension of Array---\n",
    "#---0-D Array---\n",
    "arr = np.array(42)\n",
    "# print(arr)\n",
    "# print(arr.ndim)\n",
    "\n",
    "#---1-D Array---\n",
    "arr = np.array([1, 2, 3, 4, 5])\n",
    "# print(arr)\n",
    "# print(arr.ndim)\n",
    "\n",
    "#---2-D Array---\n",
    "arr = np.array([[1, 2, 3], [4, 5, 6]])\n",
    "# print(arr)\n",
    "# print(arr.ndim)\n",
    "\n",
    "#---3-D Array---\n",
    "arr = np.array([[[1, 2, 3], [4, 5, 6]], [[7, 8, 9], [10, 11, 12]]])\n",
    "# print(arr)\n",
    "# print(arr.ndim)\n",
    "\n",
    "#---Higher Dimensional Array---\n",
    "arr = np.array([1, 2, 3, 4], ndmin=5)\n",
    "# print(arr)\n",
    "# print('number of dimensions :', arr.ndim)"
   ]
  },
  {
   "cell_type": "code",
   "execution_count": null,
   "id": "c9dfa1a8",
   "metadata": {},
   "outputs": [],
   "source": [
    "#--------Array Indexing--------\n",
    "import numpy as np\n",
    "arr = np.array([1, 2, 3, 4])\n",
    "# print(arr[0])     #accessing the first element\n",
    "# print(arr[1])     #accessing the second element\n",
    "# print(arr[2] + arr[3])   #accessing the third and fourth element and adding them\n",
    "# print(arr[-1])       #accessing the last element\n",
    "# print(arr[-3])       #accessing the third last element\n",
    "\n",
    "#------2-D Array Indexing------\n",
    "arr = np.array([[1, 2, 3, 4 , 5], [6, 7 , 8, 9, 10]])\n",
    "# print(arr[0, 1])    #accessing the element at first row and second\n",
    "# print(arr[1, 4])    #accessing the element at second row and fifth\n",
    "# print(arr[1, -1])  #accessing the last element of second row\n",
    "# print(arr[0, 3] + arr[1, 3])  #accessing the fourth element of first and second row and adding them\n",
    "\n",
    "#------3-D Array Indexing------\n",
    "arr = np.array([[[1, 2, 3], [4, 5, 6]], [[7, 8,9], [10, 11, 12]]])\n",
    "print(arr[0, 0, 1])  #accessing the second element of first array of first row\n",
    "print(arr[1,1,2]) #accessing the third element of second array of second row\n",
    "print(arr[0,1,0] + arr[1,0,2])"
   ]
  },
  {
   "cell_type": "code",
   "execution_count": 11,
   "id": "d06933a0",
   "metadata": {},
   "outputs": [
    {
     "name": "stdout",
     "output_type": "stream",
     "text": [
      "[13 14]\n"
     ]
    }
   ],
   "source": [
    "#------Numpy Array slicing----------------\n",
    "import numpy as np\n",
    "arr = np.array([1, 2, 3, 4, 5, 6, 7])\n",
    "# print(arr[1:4]) #slicing elements from index 1 to 3 (not included)\n",
    "# print(arr[4:])  #slicing elements from index 4 to end\n",
    "# print(arr[:4])  #slicing elements from start to index 4 (not included)\n",
    "# print(arr[-3:-1]) #slicing elements from index -3 to -1 (not included)\n",
    "# print(arr[:])  #slicing all elements\n",
    "\n",
    "#----used step while slicing-----\n",
    "# print(arr[1:5:2])   #slicing elements from index 1 to 4 with step 2\n",
    "# print(arr[::2])     #slicing all elements with step 2\n",
    "# print(arr[1::2])    #slicing elements from index 1 to end with step 2\n",
    "# print(arr[::-3])    #slicing all elements with step -3 (reverse order)\n",
    "# print(arr[-1::-2])  #slicing all elements from last to first with step -2 (reverse order)\n",
    "\n",
    "#------2-D Array Slicing------\n",
    "arr = np.array([[1, 2, 3, 4, 5], [6, 7, 8, 9, 10], [11, 12, 13, 14, 15]])\n",
    "# print(arr[1, 1:4])  #slicing elements from second row and index 1 to 3\n",
    "# print(arr[0:2, 2])  #slicing elements from index 0 to 1 and third column\n",
    "# print(arr[0:2, 1:4]) #slicing elements from index 0 to 1 and index 1 to 3\n",
    "print(arr[2, 2:4]) #slicing elements from third row and index 2 to 3"
   ]
  },
  {
   "cell_type": "code",
   "execution_count": 1,
   "id": "dd1fc29f",
   "metadata": {},
   "outputs": [
    {
     "name": "stdout",
     "output_type": "stream",
     "text": [
      "[1. 2. 3. 0.]\n",
      "float32\n",
      "boolean array [ True  True  True False]\n",
      "bool\n"
     ]
    }
   ],
   "source": [
    "#------data types in numpy array------\n",
    "import numpy as np\n",
    "arr = np.array([1, 2, 3, 4])\n",
    "# print(arr.dtype)\n",
    "arr = np.array(['apple', 'banana', 'cherry'])\n",
    "# print(arr.dtype)\n",
    "\n",
    "arr = np.array([1, 2, 3, 4], dtype='S')\n",
    "# print(arr.dtype)\n",
    "\n",
    "#------astype() to change data type------\n",
    "arr = np.array([1, 2, 3, 0])\n",
    "newarr = arr.astype('f')\n",
    "boolarr = arr.astype(bool)\n",
    "print(newarr)\n",
    "print(newarr.dtype)\n",
    "print(\"boolean array\", boolarr)\n",
    "print(boolarr.dtype)\n"
   ]
  },
  {
   "cell_type": "code",
   "execution_count": null,
   "id": "cdf5b91f",
   "metadata": {},
   "outputs": [],
   "source": [
    "#------copy vs view in numpy array------\n",
    "import numpy as np\n",
    "arr = np.array([1, 2, 3, 4, 5])\n",
    "arr2 = arr.copy() #copying the array\n",
    "arr2[0] = 70\n",
    "arr3 = arr.view() #viewing the array\n",
    "arr[1] = 80\n",
    "# print(arr2)\n",
    "# print(\"view array \",arr3)\n",
    "# print(\"original array\" ,arr)\n",
    "# print(\"id of original array\", id(arr))\n",
    "# print(\"id of copied array\", id(arr2))\n",
    "\n",
    "#---used base attribute to check if the array owns the data or not---\n",
    "print(arr2.base) #None means that the array owns the data\n",
    "print(arr3.base) #arr means that the array does not own the data\n"
   ]
  },
  {
   "cell_type": "code",
   "execution_count": 3,
   "id": "82853073",
   "metadata": {},
   "outputs": [
    {
     "name": "stdout",
     "output_type": "stream",
     "text": [
      "[[ 1  2  3  4]\n",
      " [ 5  6  7  8]\n",
      " [ 9 10 11 12]]\n"
     ]
    }
   ],
   "source": [
    "#------used the shape attribute to check the shape of the array------\n",
    "import numpy as np\n",
    "arr = np.array([[1, 2, 3, 4, 5, 6], [7, 8, 9, 10, 11, 12]])\n",
    "# print(arr.shape) #shape of the array\n",
    "arr.shape = (3, 4) #changing the shape of the array\n",
    "print(arr)\n",
    "# print(arr.shape) #new shape of the array\n",
    "\n",
    "#------used the reshape() method to give a new shape to an array------\n",
    "arr = np.array([1, 2, 3, 4, 5, 6, 7, 8, 9, 10, 11, 12])\n",
    "newarr = arr.reshape(4, 3) #reshaping the array to 4 rows and 3 columns\n",
    "# print(newarr)\n",
    "newarr = arr.reshape(2, 3, 2) #reshaping the array to 2 arrays of 3 rows and 2 columns\n",
    "# print(newarr)\n"
   ]
  },
  {
   "cell_type": "code",
   "execution_count": null,
   "id": "0a20136b",
   "metadata": {},
   "outputs": [],
   "source": [
    "#----itrating array usin for loop------\n",
    "import numpy as np\n",
    "arr = np.array([1, 2, 3, 4])\n",
    "# for x in arr:\n",
    "#     print(x)\n",
    "#------iterating array nditer() function------\n",
    "arr = np.array([[[1, 2, 3], [4, 5, 6]]])\n",
    "for x in np.nditer(arr):\n",
    "    print(x)"
   ]
  },
  {
   "cell_type": "code",
   "execution_count": null,
   "id": "9d3cb0af",
   "metadata": {},
   "outputs": [],
   "source": [
    "#----------Numpy joining array------\n",
    "import numpy as np\n",
    "arr1 = np.array([1, 2, 3])\n",
    "arr2 = np.array([4, 5, 6])\n",
    "arr3 = np.concatenate((arr1, arr2))\n",
    "# print(arr3)\n",
    "\n",
    "#---along axis 2-d array-----\n",
    "arr1 = np.array([[1, 2], [3, 4]])\n",
    "arr2 = np.array([[5, 6], [7, 8]])\n",
    "arr3 = np.concatenate((arr1, arr2), axis=1)\n",
    "# print(arr3)\n",
    "\n",
    "#------stacking array------\n",
    "arr1 = np.array([1, 2, 3])\n",
    "arr2 = np.array([4, 5, 6]) \n",
    "arr3 = np.stack((arr1, arr2), axis=1)\n",
    "# print(arr3)\n",
    "\n",
    "#----hstack() function- row-----\n",
    "arr1 = np.array([1, 2, 3])\n",
    "arr2 = np.array([4, 5, 6])\n",
    "arr3 = np.hstack((arr1, arr2))\n",
    "# print(arr3)   \n",
    "\n",
    "\n",
    "#----vstack() function- column-----\n",
    "arr1 = np.array([1, 2, 3])\n",
    "arr2 = np.array([4, 5, 6])  \n",
    "arr3 = np.vstack((arr1, arr2))\n",
    "# print(arr3)\n",
    "\n",
    "#----dstack() function- depth-----\n",
    "arr1 = np.array([1, 2, 3])\n",
    "arr2 = np.array([4, 5, 6])\n",
    "arr3 = np.dstack((arr1, arr2))\n",
    "print(arr3)"
   ]
  },
  {
   "cell_type": "code",
   "execution_count": null,
   "id": "aacc0320",
   "metadata": {},
   "outputs": [],
   "source": [
    "#-----Numpy splitting array------\n",
    "import numpy as np\n",
    "arr = np.array([1, 2, 3, 4, 5, 6])\n",
    "newarr = np.array_split(arr, 3)\n",
    "# print(newarr)\n",
    "\n",
    "#----2-D array spliting-----\n",
    "arr = np.array([[1, 2, 3, 4, 5, 6], [7, 8, 9, 10, 11, 12]])\n",
    "newarr = np.array_split(arr, 3)\n",
    "# print(newarr) \n",
    "\n",
    "#--------Split the 2-D array into three 2-D arrays.\n",
    "\n",
    "arr = np.array([[1, 2, 3], [4, 5, 6], [7, 8, 9], [10, 11, 12], [13, 14, 15], [16, 17, 18]])\n",
    "\n",
    "newarr = np.array_split(arr, 3)\n",
    "# print(newarr[0])\n",
    "\n",
    "#------Split the 2-D array into three 2-D arrays along columns----\n",
    "newarr = np.array_split(arr, 3, axis=1)\n",
    "newarr = np.hsplit(arr, 3)\n",
    "# print(newarr[0])\n",
    "print(newarr)\n"
   ]
  },
  {
   "cell_type": "code",
   "execution_count": 4,
   "id": "ff39583f",
   "metadata": {},
   "outputs": [
    {
     "name": "stdout",
     "output_type": "stream",
     "text": [
      "[1 3]\n"
     ]
    }
   ],
   "source": [
    "#-------Searching Array-------\n",
    "import numpy as np\n",
    "arr = np.array([1, 2, 3, 4, 5, 4, 4, 6, 4])\n",
    "# x = np.where(arr == 4)\n",
    "# print(x)\n",
    "#---Which means that the value 4 is present at index 3, 5, and 6\n",
    "\n",
    "#-----Find the indexes where the values are even:-----\n",
    "x = np.where(arr%2 == 0)\n",
    "# print(x)\n",
    "\n",
    "#---searchsorted() function----\n",
    "arr = np.array([6, 7, 8, 9])\n",
    "x = np.searchsorted(arr, 7)\n",
    "# print(x)\n",
    "\n",
    "#-----srarch from the right side of the array-----\n",
    "x = np.searchsorted(arr, 7, side='right')\n",
    "# print(x)\n",
    "\n",
    "#----search multiple values in an array----\n",
    "arr = np.array([1, 2, 3, 4, 5])\n",
    "x = np.searchsorted(arr, [2, 4])\n",
    "print(x)"
   ]
  },
  {
   "cell_type": "code",
   "execution_count": null,
   "id": "f580a196",
   "metadata": {},
   "outputs": [],
   "source": [
    "#-----sorting array------original array remains unchanged\n",
    "import numpy as np\n",
    "arr = np.array([3, 2, 0, 1])\n",
    "# arr.sort()\n",
    "# print(np.sort(arr))\n",
    "# print(arr)\n",
    "\n",
    "#-----sort array string-----\n",
    "arr = np.array(['banana', 'cherry', 'apple'])\n",
    "# print(np.sort(arr))\n",
    "\n",
    "#-----sort--booolean array-----\n",
    "arr = np.array([True, False, True])\n",
    "# print(np.sort(arr))\n",
    "\n",
    "#-----sort 2-D array-----\n",
    "arr2 = np.array([[3, 2, 4], [5, 0, 1]])\n",
    "# print(np.sort(arr))\n",
    "\n",
    "#------filtering array------\n",
    "arr3 = np.array([41, 42, 43, 44])\n",
    "x = [True, False, True, False]\n",
    "newarr = arr3[x]\n",
    "# print(newarr)\n",
    "\n"
   ]
  },
  {
   "cell_type": "code",
   "execution_count": 17,
   "id": "f3a26dbd",
   "metadata": {},
   "outputs": [
    {
     "name": "stdout",
     "output_type": "stream",
     "text": [
      "[43 44]\n"
     ]
    }
   ],
   "source": [
    "\n",
    "#----Create a filter array that will return only values higher than 42:\n",
    "import numpy as np\n",
    "arr = np.array([41, 42, 43, 44])\n",
    "#--create a empty list\n",
    "filter_arr = []\n",
    "for element in arr:\n",
    "    if element > 42:\n",
    "        filter_arr.append(True)\n",
    "    else:\n",
    "        filter_arr.append(False)\n",
    "newarr = arr[filter_arr]\n",
    "# print(newarr)\n",
    "# print(filter_arr)\n",
    "\n",
    "#-----Creating Filter Directly From Array-----\n",
    "filter_arr = arr > 42\n",
    "dnewar = arr[filter_arr]\n",
    "print(dnewar)"
   ]
  }
 ],
 "metadata": {
  "kernelspec": {
   "display_name": "Python 3",
   "language": "python",
   "name": "python3"
  },
  "language_info": {
   "codemirror_mode": {
    "name": "ipython",
    "version": 3
   },
   "file_extension": ".py",
   "mimetype": "text/x-python",
   "name": "python",
   "nbconvert_exporter": "python",
   "pygments_lexer": "ipython3",
   "version": "3.11.4"
  }
 },
 "nbformat": 4,
 "nbformat_minor": 5
}
