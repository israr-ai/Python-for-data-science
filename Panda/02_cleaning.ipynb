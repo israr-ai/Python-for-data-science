{
 "cells": [
  {
   "cell_type": "code",
   "execution_count": null,
   "id": "9a55d2e4",
   "metadata": {},
   "outputs": [
    {
     "name": "stdout",
     "output_type": "stream",
     "text": [
      "Original DataFrame:\n",
      "     Name   Age    City\n",
      "0   Amit  25.0   Delhi\n",
      "1  Rahul   NaN  Mumbai\n",
      "2  Priya  30.0    None\n",
      "3   None  22.0    Pune\n",
      "\n",
      "After removing NaN values:\n",
      "    Name   Age   City\n",
      "0  Amit  25.0  Delhi\n"
     ]
    }
   ],
   "source": [
    "#-------cleaning--data----------------\n",
    "#---remove--nan-vales--duplicates--wrong-data----\n",
    "import pandas as pd\n",
    "\n",
    "# Example DataFrame\n",
    "data = {\n",
    "    'Name': ['Amit', 'Rahul', 'Priya', None],\n",
    "    'Age': [25, None, 30, 22],\n",
    "    'City': ['Delhi', 'Mumbai', None, 'Pune']\n",
    "}\n",
    "df = pd.DataFrame(data)\n",
    "\n",
    "print(\"Original DataFrame:\\n\", df)\n",
    "\n",
    "# Drop rows with NaN\n",
    "df_drop = df.dropna()\n",
    "# df_fill = df.fillan(\"unknown\")\n",
    "print(\"\\nAfter removing NaN values:\\n\", df_drop)\n"
   ]
  },
  {
   "cell_type": "code",
   "execution_count": 8,
   "id": "05036dd5",
   "metadata": {},
   "outputs": [
    {
     "name": "stdout",
     "output_type": "stream",
     "text": [
      "Original DataFrame:\n",
      "      A    B    C\n",
      "0  1.0  NaN    x\n",
      "1  2.0  2.0  NaN\n",
      "2  NaN  3.0    y\n",
      "3  4.0  4.0    z\n",
      "\n",
      "DataFrame after filling NaN in column A with 0:\n",
      "      A    B    C\n",
      "0  1.0  4.0    x\n",
      "1  2.0  2.0  NaN\n",
      "2  0.0  3.0    y\n",
      "3  4.0  4.0    z\n"
     ]
    }
   ],
   "source": [
    "#----fillna--methods----------------\n",
    "import pandas as pd \n",
    "import numpy as np\n",
    "data = {\n",
    "    \"A\": [1, 2, np.nan, 4],\n",
    "    \"B\" : [np.nan, 2, 3, 4],\n",
    "    \"C\": [\"x\", np.nan, \"y\", \"z\"]\n",
    "}\n",
    "df = pd.DataFrame(data)\n",
    "print(\"Original DataFrame:\\n\", df)\n",
    "# Fill NaN with a specific value\n",
    "df_filled = df.fillna(0)\n",
    "# print(\"\\nDataFrame after filling NaN with 0:\\n\", df_filled)\n",
    "\n",
    "#----fillna with column mean----------------\n",
    "df_filled_mean = df.fillna(df.mean(numeric_only=True))\n",
    "# print(\"\\nDataFrame after filling NaN with column mean:\\n\", df_filled_mean)\n",
    "\n",
    "#----replace---specific-values----------------\n",
    "df.fillna({\"A\":0,\"B\":4}, inplace=True)\n",
    "print(\"\\nDataFrame after filling NaN in column A with 0:\\n\", df)\n"
   ]
  },
  {
   "cell_type": "code",
   "execution_count": 4,
   "id": "60469522",
   "metadata": {},
   "outputs": [
    {
     "name": "stdout",
     "output_type": "stream",
     "text": [
      "Date     object\n",
      "Value     int64\n",
      "dtype: object\n",
      "Original DataFrame:\n",
      "             Date  Value\n",
      "0     2023-01-01     10\n",
      "1     2023/02/01     20\n",
      "2  March 3, 2023     30\n",
      "3     2023-04-01     40\n",
      "\n",
      "DataFrame after converting 'Date' to datetime:\n",
      "         Date  Value\n",
      "0 2023-01-01     10\n",
      "1        NaT     20\n",
      "2        NaT     30\n",
      "3 2023-04-01     40\n"
     ]
    }
   ],
   "source": [
    "#-----wrong--format---data-----------------\n",
    "import pandas as pd\n",
    "data ={\n",
    "    'Date': ['2023-01-01', '2023/02/01', 'March 3, 2023', '2023-04-01'],\n",
    "    'Value': [10, 20, 30, 40]\n",
    "}\n",
    "df = pd.DataFrame(data)\n",
    "print(df.dtypes)\n",
    "print(\"Original DataFrame:\\n\", df)\n",
    "\n",
    "#convert to datetime\n",
    "df['Date'] = pd.to_datetime(df['Date'], errors='coerce')\n",
    "# print(df.dtypes)\n",
    "print(\"\\nDataFrame after converting 'Date' to datetime:\\n\", df)"
   ]
  },
  {
   "cell_type": "code",
   "execution_count": 12,
   "id": "5a9154a5",
   "metadata": {},
   "outputs": [
    {
     "name": "stdout",
     "output_type": "stream",
     "text": [
      "marks    object\n",
      "dtype: object\n",
      "\n",
      "DataFrame after removing rows with invalid 'Date':\n",
      "    marks\n",
      "0   90.0\n",
      "1   85.0\n",
      "2    NaN\n",
      "3   78.0\n"
     ]
    }
   ],
   "source": [
    "#------Numbers stored as String-----------------\n",
    "import pandas as pd\n",
    "\n",
    "data = {\"marks\": [\"90\", \"85\", \"A\", \"78\"]}\n",
    "df = pd.DataFrame(data)\n",
    "print(df.dtypes)\n",
    "# print(\"Original DataFrame:\\n\", df)\n",
    "\n",
    "df['marks'] = pd.to_numeric(df['marks'], errors='coerce')\n",
    "# print(df)\n",
    "\n",
    "#---remove---rows-----------------------\n",
    "# df['Date'] = pd.to_datetime(df['Date'], format='mixed')\n",
    "# df.dropna(subset=['Date'], inplace = True)\n",
    "print(\"\\nDataFrame after removing rows with invalid 'Date':\\n\", df)"
   ]
  },
  {
   "cell_type": "code",
   "execution_count": 15,
   "id": "340d74bc",
   "metadata": {},
   "outputs": [
    {
     "name": "stdout",
     "output_type": "stream",
     "text": [
      "\n",
      "Original DataFrame:\n",
      "    Name  Age Marks           Date\n",
      "0  Amit   25    85     2025-01-01\n",
      "1  Riya   -3    92     01-13-2025\n",
      "2   Sam  130   NaN  March 5, 2025\n",
      "3  Neha   22   101     32-01-2025\n",
      "\n",
      "DataFrame after cleaning:\n",
      "    Name   Age  Marks       Date\n",
      "0  Amit  25.0   85.0 2025-01-01\n",
      "1  Riya   NaN   92.0        NaT\n",
      "2   Sam   NaN    NaN        NaT\n",
      "3  Neha  22.0    NaN        NaT\n"
     ]
    }
   ],
   "source": [
    "#-------wrong--fromat--data----------------\n",
    "import pandas as pd\n",
    "\n",
    "data = {\n",
    "    \"Name\": [\"Amit\", \"Riya\", \"Sam\", \"Neha\"],\n",
    "    \"Age\": [25, -3, 130, 22],   # Wrong: -3 and 130 (invalid ages)\n",
    "    \"Marks\": [85, 92, \"NaN\", 101],  # Wrong: string \"NaN\", and 101 > 100\n",
    "    \"Date\": [\"2025-01-01\", \"01-13-2025\", \"March 5, 2025\", \"32-01-2025\"]  # Wrong: \"32-01-2025\"\n",
    "}\n",
    "\n",
    "df = pd.DataFrame(data)\n",
    "print(\"\\nOriginal DataFrame:\\n\", df)\n",
    "\n",
    "# Convert Marks to numeric (replace wrong with NaN)\n",
    "df[\"Marks\"] = pd.to_numeric(df[\"Marks\"], errors=\"coerce\")\n",
    "\n",
    "# Set condition for valid Age (0–120 only)\n",
    "df.loc[(df[\"Age\"] < 0) | (df[\"Age\"] > 120), \"Age\"] = None\n",
    "\n",
    "# Marks must be between 0–100\n",
    "df.loc[(df[\"Marks\"] < 0) | (df[\"Marks\"] > 100), \"Marks\"] = None\n",
    "\n",
    "df[\"Date\"] = pd.to_datetime(df[\"Date\"], errors=\"coerce\")\n",
    "print(\"\\nDataFrame after cleaning:\\n\", df)"
   ]
  },
  {
   "cell_type": "code",
   "execution_count": 16,
   "id": "1dcee120",
   "metadata": {},
   "outputs": [
    {
     "name": "stdout",
     "output_type": "stream",
     "text": [
      "Original DataFrame:\n",
      "    Name  Age     City\n",
      "0  Amit   25    Delhi\n",
      "1  Riya   30   Mumbai\n",
      "2   Sam   22     Pune\n",
      "3  Neha   28  Chennai\n",
      "4  Amit   25    Delhi\n",
      "\n",
      "DataFrame after removing duplicates:\n",
      "    Name  Age     City\n",
      "0  Amit   25    Delhi\n",
      "1  Riya   30   Mumbai\n",
      "2   Sam   22     Pune\n",
      "3  Neha   28  Chennai\n"
     ]
    }
   ],
   "source": [
    "#-------removing--duplicates----------------\n",
    "import pandas as pd\n",
    "data = {\n",
    "    \"Name\": [\"Amit\", \"Riya\", \"Sam\", \"Neha\", \"Amit\"],\n",
    "    \"Age\": [25, 30, 22, 28, 25],\n",
    "    \"City\": [\"Delhi\", \"Mumbai\", \"Pune\", \"Chennai\", \"Delhi\"]\n",
    "}\n",
    "df = pd.DataFrame(data)\n",
    "print(\"Original DataFrame:\\n\", df)\n",
    "\n",
    "df_no_duplicates = df.drop_duplicates()\n",
    "print(\"\\nDataFrame after removing duplicates:\\n\", df_no_duplicates)"
   ]
  }
 ],
 "metadata": {
  "kernelspec": {
   "display_name": "Python 3",
   "language": "python",
   "name": "python3"
  },
  "language_info": {
   "codemirror_mode": {
    "name": "ipython",
    "version": 3
   },
   "file_extension": ".py",
   "mimetype": "text/x-python",
   "name": "python",
   "nbconvert_exporter": "python",
   "pygments_lexer": "ipython3",
   "version": "3.11.4"
  }
 },
 "nbformat": 4,
 "nbformat_minor": 5
}
