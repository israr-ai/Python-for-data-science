{
 "cells": [
  {
   "cell_type": "code",
   "execution_count": 2,
   "id": "faae82ab",
   "metadata": {},
   "outputs": [
    {
     "name": "stdout",
     "output_type": "stream",
     "text": [
      "Original Data\n",
      "    Math  science  English\n",
      "0    90       85       88\n",
      "1    80       80       78\n",
      "2    85       80       85\n",
      "3    70       70       73\n",
      "4    95       90       92\n",
      "             Math   science   English\n",
      "Math     1.000000  0.981399  0.987286\n",
      "science  0.981399  1.000000  0.941572\n",
      "English  0.987286  0.941572  1.000000\n"
     ]
    }
   ],
   "source": [
    "#----find---correlation--------\n",
    "import pandas as pd\n",
    "\n",
    "data = {\n",
    "    \"Math\": [90, 80, 85, 70, 95],\n",
    "    \"science\": [85, 80, 80, 70, 90],\n",
    "    \"English\": [88, 78, 85, 73, 92]\n",
    "}\n",
    "df = pd.DataFrame(data)\n",
    "correlation_matrix = df.corr()\n",
    "print(\"Original Data\\n\",df)\n",
    "print(correlation_matrix)\n",
    "\n"
   ]
  }
 ],
 "metadata": {
  "kernelspec": {
   "display_name": "Python 3",
   "language": "python",
   "name": "python3"
  },
  "language_info": {
   "codemirror_mode": {
    "name": "ipython",
    "version": 3
   },
   "file_extension": ".py",
   "mimetype": "text/x-python",
   "name": "python",
   "nbconvert_exporter": "python",
   "pygments_lexer": "ipython3",
   "version": "3.11.4"
  }
 },
 "nbformat": 4,
 "nbformat_minor": 5
}
